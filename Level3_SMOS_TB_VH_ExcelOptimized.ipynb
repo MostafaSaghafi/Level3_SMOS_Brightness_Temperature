{
 "cells": [
  {
   "cell_type": "code",
   "execution_count": null,
   "id": "1556ae10-d53e-4bea-97e5-d69400082895",
   "metadata": {},
   "outputs": [],
   "source": [
    "import os\n",
    "import numpy as np\n",
    "import xarray as xr\n",
    "import pandas as pd"
   ]
  },
  {
   "cell_type": "code",
   "execution_count": null,
   "id": "982f9f5b-6d83-4e9e-b61c-355a1f3d01a0",
   "metadata": {},
   "outputs": [],
   "source": [
    "# Define the folder path where your NetCDF files are located\n",
    "folder_path = 'E:/SMOS20192022/TB_2022_D'"
   ]
  },
  {
   "cell_type": "code",
   "execution_count": null,
   "id": "592a16f0-eb46-4921-85e1-9ecc7bae81b4",
   "metadata": {},
   "outputs": [],
   "source": [
    "# Define the coordinates for which you need data\n",
    "coordinates = [\n",
    "(41.940084,\t-73.49722),\n",
    "(41.94195,\t-73.4951),\n",
    "(41.95597,\t-73.57178),\n",
    "(41.924,\t-73.61745),\n",
    "(41.9501,\t-73.5794),\n",
    "(41.9501,\t-73.61745),\n",
    "(41.8385,\t-73.61913),\n",
    "(41.8278,\t-73.50703),\n",
    "(41.79884,\t-73.73929),\n",
    "(41.80126,\t-73.73325),\n",
    "(41.802,\t-73.6272),\n",
    "(41.96187,\t-73.71193),\n",
    "(41.94754,\t-73.74296),\n",
    "(41.90908,\t-73.74947),\n",
    "(41.89083,\t-73.78043),\n",
    "(41.8766, -73.76864),\n",
    "(41.81892,\t-73.66515),\n",
    "(41.86077,\t-73.64758),\n",
    "(41.71343,\t-73.63094),\n",
    "(41.84286,\t-73.62103),\n",
    "(41.76746,\t-73.51102),\n",
    "(41.75289,\t-73.51743),\n",
    "(41.75341,\t-73.52047),\n",
    "(41.73453,\t-73.73219),\n",
    "(41.7342,\t-73.73128)\n",
    "]"
   ]
  },
  {
   "cell_type": "code",
   "execution_count": null,
   "id": "553b4f59-7f47-4e85-8725-e3bfad424c36",
   "metadata": {},
   "outputs": [],
   "source": [
    "# Initialize a dictionary to store the results\n",
    "results = []\n"
   ]
  },
  {
   "cell_type": "code",
   "execution_count": null,
   "id": "00c25e3d-6618-4665-ad00-f784ef1dfe6d",
   "metadata": {},
   "outputs": [],
   "source": [
    "# 1Function to find the nearest index for given coordinate in 1D arrays\n",
    "#def find_nearest_index(lat_array, lon_array, lat_point, lon_point):\n",
    "    #lat_idx = np.abs(lat_array - lat_point).argmin()\n",
    "    #lon_idx = np.abs(lon_array - lon_point).argmin()\n",
    "    #return lat_idx, lon_idx"
   ]
  },
  {
   "cell_type": "code",
   "execution_count": null,
   "id": "22228b65",
   "metadata": {},
   "outputs": [],
   "source": [
    "# 2Function to find the nearest point  \n",
    "def find_nearest_index(lat_array, lon_array, lat_point, lon_point):  \n",
    "    # Calculate squared distance from the provided coordinates to each grid point  \n",
    "    dist_sq = (lat_array[:, np.newaxis] - lat_point)**2 + (lon_array[np.newaxis, :] - lon_point)**2  \n",
    "    return np.unravel_index(np.argmin(dist_sq), dist_sq.shape)"
   ]
  },
  {
   "cell_type": "code",
   "execution_count": null,
   "id": "271d76d4-bac8-48b5-ac21-850eb32de4aa",
   "metadata": {},
   "outputs": [],
   "source": [
    "# Iterate over all NetCDF files in the folder\n",
    "for filename in os.listdir(folder_path):\n",
    "    if filename.endswith('.nc'):\n",
    "        file_path = os.path.join(folder_path, filename)\n",
    "\n",
    "        # Extracting the date from the filename  \n",
    "        date_str = filename.split('_')[4]  # Extract the date (e.g., \"20190501T000000\" becomes \"20190501T\")  \n",
    "        date = date_str[:8]  # Get the date in YYYYMMDD format\n",
    "        \n",
    "        ds = xr.open_dataset(file_path)\n",
    "        \n",
    "        # Retrieve the latitude and longitude variables\n",
    "        lat_candidates = ['latitude', 'lat']\n",
    "        lon_candidates = ['longitude', 'lon']\n",
    "        \n",
    "        lat_var, lon_var = None, None\n",
    "        for lat_name in lat_candidates:\n",
    "            if lat_name in ds.variables:\n",
    "                lat_var = ds[lat_name].values\n",
    "                break\n",
    "\n",
    "        for lon_name in lon_candidates:\n",
    "            if lon_name in ds.variables:\n",
    "                lon_var = ds[lon_name].values\n",
    "                break\n",
    "\n",
    "        if lat_var is None or lon_var is None:\n",
    "            print(f\"Skipping file {filename} due to missing latitude/longitude variables.\")\n",
    "            continue\n",
    "\n",
    "        # Print lat/lon variables shape for debugging\n",
    "        print(f\"File: {filename}\")\n",
    "        print(f\"  Lat shape: {lat_var.shape}, Lon shape: {lon_var.shape}\")\n",
    "        \n",
    "        # Extract data for the coordinates\n",
    "        for lat_point, lon_point in coordinates:\n",
    "            try:\n",
    "                lat_idx, lon_idx = find_nearest_index(lat_var, lon_var, lat_point, lon_point)\n",
    "                print(f\"  Closest index for latitude {lat_point}: {lat_idx}, longitude {lon_point}: {lon_idx}\")\n",
    "                print(f\"  Closest lat value: {lat_var[lat_idx]}, lon value: {lon_var[lon_idx]}\")\n",
    "                \n",
    "                row = {'File': filename, 'Date': date, 'Latitude': lat_point, 'Longitude': lon_point}\n",
    "                \n",
    "                for i in range(1, 15):\n",
    "                    if 'BT_H' in ds.variables:\n",
    "                        bt_h_data = ds['BT_H'].isel(lat=lat_idx, lon=lon_idx, inc=i-1).values\n",
    "                        if np.isnan(bt_h_data):\n",
    "                            print(f\"    Extracted BT_H_inc{i}: NaN encountered, setting to None\")\n",
    "                            bt_h_data = None\n",
    "                        else:\n",
    "                            print(f\"    Extracted BT_H_inc{i}: {bt_h_data}\")\n",
    "                        row[f'BT_H_inc{i}'] = bt_h_data\n",
    "                    \n",
    "                    if 'BT_V' in ds.variables:\n",
    "                        bt_v_data = ds['BT_V'].isel(lat=lat_idx, lon=lon_idx, inc=i-1).values\n",
    "                        if np.isnan(bt_v_data):\n",
    "                            print(f\"    Extracted BT_V_inc{i}: NaN encountered, setting to None\")\n",
    "                            bt_v_data = None\n",
    "                        else:\n",
    "                            print(f\"    Extracted BT_V_inc{i}: {bt_v_data}\")\n",
    "                        row[f'BT_V_inc{i}'] = bt_v_data\n",
    "                \n",
    "                results.append(row)\n",
    "                \n",
    "            except KeyError as e:\n",
    "                print(f\"Skipping some variables in file {filename} due to missing key: {e}\")\n",
    "            except IndexError as e:\n",
    "                print(f\"Skipping file {filename} due to index error: {e}\")\n",
    "        ds.close()\n",
    "        "
   ]
  },
  {
   "cell_type": "code",
   "execution_count": null,
   "id": "73e9d12b-5e5d-481c-ade4-ff8b611f7465",
   "metadata": {},
   "outputs": [],
   "source": [
    "# Convert results to DataFrame\n",
    "df = pd.DataFrame(results)"
   ]
  },
  {
   "cell_type": "code",
   "execution_count": null,
   "id": "4e80a7d7-3cb9-4d84-b314-afba7ee6094a",
   "metadata": {},
   "outputs": [],
   "source": [
    "df"
   ]
  },
  {
   "cell_type": "code",
   "execution_count": null,
   "id": "b61cc1ad-9eaf-4975-a101-c9d0eddffb0f",
   "metadata": {},
   "outputs": [],
   "source": [
    "# Save DataFrame to Excel file\n",
    "output_file = r'E:/SMOS20192022/TB_Result/SMOS_Temperature_Brightness_Result/Millbrook/Millbrook_TB_2022D.xlsx'\n",
    "df.to_excel(output_file, index=False)\n",
    "\n",
    "print(f\"Data successfully saved to {output_file}\")"
   ]
  },
  {
   "cell_type": "code",
   "execution_count": null,
   "id": "32103c10-3844-4a41-abaf-f4b1c589cd27",
   "metadata": {},
   "outputs": [],
   "source": []
  }
 ],
 "metadata": {
  "kernelspec": {
   "display_name": "Python 3 (ipykernel)",
   "language": "python",
   "name": "python3"
  },
  "language_info": {
   "codemirror_mode": {
    "name": "ipython",
    "version": 3
   },
   "file_extension": ".py",
   "mimetype": "text/x-python",
   "name": "python",
   "nbconvert_exporter": "python",
   "pygments_lexer": "ipython3",
   "version": "3.10.13"
  }
 },
 "nbformat": 4,
 "nbformat_minor": 5
}
