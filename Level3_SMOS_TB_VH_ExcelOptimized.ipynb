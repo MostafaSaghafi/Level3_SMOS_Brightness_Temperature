{
 "cells": [
  {
   "cell_type": "code",
   "execution_count": 1,
   "id": "1556ae10-d53e-4bea-97e5-d69400082895",
   "metadata": {},
   "outputs": [],
   "source": [
    "import os\n",
    "import numpy as np\n",
    "import xarray as xr\n",
    "import pandas as pd"
   ]
  },
  {
   "cell_type": "code",
   "execution_count": 2,
   "id": "982f9f5b-6d83-4e9e-b61c-355a1f3d01a0",
   "metadata": {},
   "outputs": [],
   "source": [
    "# Define the folder path where your NetCDF files are located\n",
    "folder_path = '*'"
   ]
  },
  {
   "cell_type": "code",
   "execution_count": 3,
   "id": "592a16f0-eb46-4921-85e1-9ecc7bae81b4",
   "metadata": {},
   "outputs": [],
   "source": [
    "# Define the coordinates for which you need data\n",
    "coordinates = [\n",
    "    (xx.xx, yy.yy),\n",
    "    (xxx.xxx, -yyy.yyy)\n",
    "]"
   ]
  },
  {
   "cell_type": "code",
   "execution_count": 4,
   "id": "553b4f59-7f47-4e85-8725-e3bfad424c36",
   "metadata": {},
   "outputs": [],
   "source": [
    "# Initialize a dictionary to store the results\n",
    "results = []\n"
   ]
  },
  {
   "cell_type": "code",
   "execution_count": 5,
   "id": "00c25e3d-6618-4665-ad00-f784ef1dfe6d",
   "metadata": {},
   "outputs": [],
   "source": [
    "# Function to find the nearest index for given coordinate in 1D arrays\n",
    "def find_nearest_index(lat_array, lon_array, lat_point, lon_point):\n",
    "    lat_idx = np.abs(lat_array - lat_point).argmin()\n",
    "    lon_idx = np.abs(lon_array - lon_point).argmin()\n",
    "    return lat_idx, lon_idx"
   ]
  },
  {
   "cell_type": "code",
   "execution_count": null,
   "id": "271d76d4-bac8-48b5-ac21-850eb32de4aa",
   "metadata": {},
   "outputs": [],
   "source": [
    "# Iterate over all NetCDF files in the folder\n",
    "for filename in os.listdir(folder_path):\n",
    "    if filename.endswith('.nc'):\n",
    "        file_path = os.path.join(folder_path, filename)\n",
    "        ds = xr.open_dataset(file_path)\n",
    "        \n",
    "        # Retrieve the latitude and longitude variables\n",
    "        lat_candidates = ['latitude', 'lat']\n",
    "        lon_candidates = ['longitude', 'lon']\n",
    "        \n",
    "        lat_var, lon_var = None, None\n",
    "        for lat_name in lat_candidates:\n",
    "            if lat_name in ds.variables:\n",
    "                lat_var = ds[lat_name].values\n",
    "                break\n",
    "\n",
    "        for lon_name in lon_candidates:\n",
    "            if lon_name in ds.variables:\n",
    "                lon_var = ds[lon_name].values\n",
    "                break\n",
    "\n",
    "        if lat_var is None or lon_var is None:\n",
    "            print(f\"Skipping file {filename} due to missing latitude/longitude variables.\")\n",
    "            continue\n",
    "\n",
    "        # Print lat/lon variables shape for debugging\n",
    "        print(f\"File: {filename}\")\n",
    "        print(f\"  Lat shape: {lat_var.shape}, Lon shape: {lon_var.shape}\")\n",
    "        \n",
    "        # Extract data for the coordinates\n",
    "        for lat_point, lon_point in coordinates:\n",
    "            try:\n",
    "                lat_idx, lon_idx = find_nearest_index(lat_var, lon_var, lat_point, lon_point)\n",
    "                print(f\"  Closest index for latitude {lat_point}: {lat_idx}, longitude {lon_point}: {lon_idx}\")\n",
    "                print(f\"  Closest lat value: {lat_var[lat_idx]}, lon value: {lon_var[lon_idx]}\")\n",
    "                \n",
    "                row = {'File': filename, 'Coordinates': (lat_point, lon_point)}\n",
    "                \n",
    "                for i in range(1, 15):\n",
    "                    if 'BT_H' in ds.variables:\n",
    "                        bt_h_data = ds['BT_H'].isel(lat=lat_idx, lon=lon_idx, inc=i-1).values\n",
    "                        if np.isnan(bt_h_data):\n",
    "                            print(f\"    Extracted BT_H_inc{i}: NaN encountered, setting to None\")\n",
    "                            bt_h_data = None\n",
    "                        else:\n",
    "                            print(f\"    Extracted BT_H_inc{i}: {bt_h_data}\")\n",
    "                        row[f'BT_H_inc{i}'] = bt_h_data\n",
    "                    \n",
    "                    if 'BT_V' in ds.variables:\n",
    "                        bt_v_data = ds['BT_V'].isel(lat=lat_idx, lon=lon_idx, inc=i-1).values\n",
    "                        if np.isnan(bt_v_data):\n",
    "                            print(f\"    Extracted BT_V_inc{i}: NaN encountered, setting to None\")\n",
    "                            bt_v_data = None\n",
    "                        else:\n",
    "                            print(f\"    Extracted BT_V_inc{i}: {bt_v_data}\")\n",
    "                        row[f'BT_V_inc{i}'] = bt_v_data\n",
    "                \n",
    "                results.append(row)\n",
    "                \n",
    "            except KeyError as e:\n",
    "                print(f\"Skipping some variables in file {filename} due to missing key: {e}\")\n",
    "            except IndexError as e:\n",
    "                print(f\"Skipping file {filename} due to index error: {e}\")"
   ]
  },
  {
   "cell_type": "code",
   "execution_count": 7,
   "id": "73e9d12b-5e5d-481c-ade4-ff8b611f7465",
   "metadata": {},
   "outputs": [],
   "source": [
    "# Convert results to DataFrame\n",
    "df = pd.DataFrame(results)"
   ]
  },
  {
   "cell_type": "code",
   "execution_count": null,
   "id": "4e80a7d7-3cb9-4d84-b314-afba7ee6094a",
   "metadata": {},
   "outputs": [],
   "source": [
    "df"
   ]
  },
  {
   "cell_type": "code",
   "execution_count": 11,
   "id": "b61cc1ad-9eaf-4975-a101-c9d0eddffb0f",
   "metadata": {},
   "outputs": [
    {
     "name": "stdout",
     "output_type": "stream",
     "text": [
      "Data successfully saved to extracted_data_optimized.xlsx\n"
     ]
    }
   ],
   "source": [
    "# Save DataFrame to Excel file\n",
    "output_file = 'SMOS_L3.xlsx'\n",
    "df.to_excel(output_file, index=False)\n",
    "\n",
    "print(f\"Data successfully saved to {output_file}\")"
   ]
  },
  {
   "cell_type": "code",
   "execution_count": null,
   "id": "32103c10-3844-4a41-abaf-f4b1c589cd27",
   "metadata": {},
   "outputs": [],
   "source": []
  }
 ],
 "metadata": {
  "kernelspec": {
   "display_name": "Python 3 (ipykernel)",
   "language": "python",
   "name": "python3"
  },
  "language_info": {
   "codemirror_mode": {
    "name": "ipython",
    "version": 3
   },
   "file_extension": ".py",
   "mimetype": "text/x-python",
   "name": "python",
   "nbconvert_exporter": "python",
   "pygments_lexer": "ipython3",
   "version": "3.10.13"
  }
 },
 "nbformat": 4,
 "nbformat_minor": 5
}
